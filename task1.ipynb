{
 "cells": [
  {
   "cell_type": "code",
   "execution_count": 20,
   "id": "c6dadbda",
   "metadata": {},
   "outputs": [
    {
     "name": "stdout",
     "output_type": "stream",
     "text": [
      " 21\n",
      " 23\n",
      " 25\n",
      " 27\n",
      " 29\n",
      " 31\n",
      " 33\n",
      " 35\n",
      " 37\n",
      " 39\n",
      " 41\n",
      " 43\n",
      " 45\n",
      " 47\n",
      " 49\n",
      " 51\n",
      " 53\n",
      " 55\n",
      " 57\n",
      " 59\n",
      " 61\n",
      " 63\n",
      " 65\n",
      " 67\n",
      " 69\n",
      " 71\n",
      " 73\n",
      " 75\n",
      " 77\n",
      " 79\n"
     ]
    }
   ],
   "source": [
    "##print odd value between 20 and 80, without using if. Using for loop only.\n",
    "\n",
    "for i in range(20,80):\n",
    "    if i%2==0:\n",
    "        pass\n",
    "    else:\n",
    "        print(\"\",i)\n",
    "        "
   ]
  },
  {
   "cell_type": "code",
   "execution_count": 30,
   "id": "c822d223",
   "metadata": {},
   "outputs": [
    {
     "name": "stdout",
     "output_type": "stream",
     "text": [
      "[1, 2, 3, 4, 5, 6, 7, 8, 9, 10, 11, 12, 13, 14, 15, 16, 17, 18, 19, 20]\n"
     ]
    }
   ],
   "source": [
    "l1=[]\n",
    "for i in range(1,21):\n",
    "    l1.append(i)\n",
    "print(l1)\n"
   ]
  },
  {
   "cell_type": "code",
   "execution_count": 32,
   "id": "b71e37b2",
   "metadata": {},
   "outputs": [
    {
     "data": {
      "text/plain": [
       "[20, 19, 18, 17, 16, 15, 14, 13, 12, 11, 10, 9, 8, 7, 6, 5, 4, 3, 2, 1]"
      ]
     },
     "execution_count": 32,
     "metadata": {},
     "output_type": "execute_result"
    }
   ],
   "source": [
    "for i in range(21,0):\n",
    "    l1.append(i)\n",
    "l1[::-1]"
   ]
  },
  {
   "cell_type": "code",
   "execution_count": 37,
   "id": "6726d65f",
   "metadata": {},
   "outputs": [
    {
     "name": "stdout",
     "output_type": "stream",
     "text": [
      " 9261\n",
      " 12167\n",
      " 15625\n",
      " 19683\n",
      " 24389\n",
      " 29791\n",
      " 35937\n",
      " 42875\n",
      " 50653\n",
      " 59319\n"
     ]
    }
   ],
   "source": [
    "for i in range(20,40):\n",
    "    if i%2==0:\n",
    "        pass\n",
    "    else:\n",
    "    \tprint(\"\",i*i*i)"
   ]
  },
  {
   "cell_type": "code",
   "execution_count": 42,
   "id": "131d1ebe",
   "metadata": {},
   "outputs": [
    {
     "name": "stdout",
     "output_type": "stream",
     "text": [
      "My name is  a My age is 20\n",
      "My name is  b My age is 21\n",
      "My name is  c My age is 23\n",
      "My name is  d My age is 25\n",
      "My name is  e My age is 24\n"
     ]
    }
   ],
   "source": [
    "name=[\"a\",\"b\",\"c\",\"d\",\"e\"]\n",
    "age=[20,21,23,25,24]\n",
    "for i in range(0,5):\n",
    "    print(\"My name is \",name[i],\"My age is\",age[i])\n",
    "    "
   ]
  },
  {
   "cell_type": "code",
   "execution_count": 57,
   "id": "7c936745",
   "metadata": {},
   "outputs": [
    {
     "name": "stdout",
     "output_type": "stream",
     "text": [
      "[8, 2, 3, 4, 5, 6, 7, 1]\n"
     ]
    }
   ],
   "source": [
    "lt=[1,2,3,4,5,6,7,8]\n",
    "temp=lt[0]\n",
    "lt[0]=lt[7]\n",
    "lt[7]=temp\n",
    "\n",
    "print(lt)"
   ]
  },
  {
   "cell_type": "code",
   "execution_count": 55,
   "id": "0240a0fd",
   "metadata": {},
   "outputs": [
    {
     "data": {
      "text/plain": [
       "20"
      ]
     },
     "execution_count": 55,
     "metadata": {},
     "output_type": "execute_result"
    }
   ],
   "source": [
    "str=\"My Name is Rushikesh\"\n",
    "len(str)\n",
    "\n",
    "#print(len(str))"
   ]
  },
  {
   "cell_type": "code",
   "execution_count": 66,
   "id": "840bfa7b",
   "metadata": {},
   "outputs": [
    {
     "name": "stdout",
     "output_type": "stream",
     "text": [
      "The Sum of positive elements of a list 15\n"
     ]
    }
   ],
   "source": [
    "total=0\n",
    "list=[1,4,-5,-20,10] \n",
    "for i in range(0,len(list)):\n",
    "    if list[i]>0:\n",
    "        total=total+list[i]\n",
    "print(\"The Sum of positive elements of a list\",total)\n",
    "        \n",
    "       \n",
    "\n",
    "    "
   ]
  },
  {
   "cell_type": "code",
   "execution_count": null,
   "id": "c7338752",
   "metadata": {},
   "outputs": [],
   "source": [
    "\n"
   ]
  },
  {
   "cell_type": "code",
   "execution_count": null,
   "id": "57ec4317",
   "metadata": {},
   "outputs": [],
   "source": []
  },
  {
   "cell_type": "code",
   "execution_count": null,
   "id": "91e132c0",
   "metadata": {},
   "outputs": [],
   "source": []
  }
 ],
 "metadata": {
  "kernelspec": {
   "display_name": "Python 3 (ipykernel)",
   "language": "python",
   "name": "python3"
  },
  "language_info": {
   "codemirror_mode": {
    "name": "ipython",
    "version": 3
   },
   "file_extension": ".py",
   "mimetype": "text/x-python",
   "name": "python",
   "nbconvert_exporter": "python",
   "pygments_lexer": "ipython3",
   "version": "3.9.13"
  }
 },
 "nbformat": 4,
 "nbformat_minor": 5
}
