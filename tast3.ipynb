{
  "nbformat": 4,
  "nbformat_minor": 0,
  "metadata": {
    "colab": {
      "provenance": [],
      "authorship_tag": "ABX9TyNRWoLFyTGnBWKH+6sb6SBJ",
      "include_colab_link": true
    },
    "kernelspec": {
      "name": "python3",
      "display_name": "Python 3"
    },
    "language_info": {
      "name": "python"
    }
  },
  "cells": [
    {
      "cell_type": "markdown",
      "metadata": {
        "id": "view-in-github",
        "colab_type": "text"
      },
      "source": [
        "<a href=\"https://colab.research.google.com/github/rushipatil2604l/Python/blob/main/tast3.ipynb\" target=\"_parent\"><img src=\"https://colab.research.google.com/assets/colab-badge.svg\" alt=\"Open In Colab\"/></a>"
      ]
    },
    {
      "cell_type": "code",
      "source": [
        "#program to check the given number is even or odd using while loop\n",
        "\n",
        "a=int(input(\"Enter the number: \"))\n",
        "while a%2==0:\n",
        "    print(a,\"is a even number\")\n",
        "else:\n",
        "    print(a,\"is a odd number\")"
      ],
      "metadata": {
        "id": "uLAI0Jhg2Tb6"
      },
      "execution_count": null,
      "outputs": []
    },
    {
      "cell_type": "code",
      "source": [
        "#print the triangle shape using while loop\n",
        "a = 0\n",
        "while a <= 5:\n",
        "      print(\"*\" * a)\n",
        "      a=a+1"
      ],
      "metadata": {
        "id": "3hoSNnwKvobH",
        "colab": {
          "base_uri": "https://localhost:8080/"
        },
        "outputId": "137ce18e-7386-4ec8-e51f-8795eb7a1c82"
      },
      "execution_count": null,
      "outputs": [
        {
          "output_type": "stream",
          "name": "stdout",
          "text": [
            "\n",
            "*\n",
            "**\n",
            "***\n",
            "****\n",
            "*****\n"
          ]
        }
      ]
    },
    {
      "cell_type": "code",
      "source": [
        "l1=[]\n",
        "i=0\n",
        "while i<20:\n",
        "  l1.append(i)\n",
        "  i+=1\n",
        "print(l1)"
      ],
      "metadata": {
        "colab": {
          "base_uri": "https://localhost:8080/"
        },
        "id": "RYAWyTuHvooR",
        "outputId": "348f7421-4c0f-4326-889b-23463439be1d"
      },
      "execution_count": null,
      "outputs": [
        {
          "output_type": "stream",
          "name": "stdout",
          "text": [
            "[0, 1, 2, 3, 4, 5, 6, 7, 8, 9, 10, 11, 12, 13, 14, 15, 16, 17, 18, 19]\n"
          ]
        }
      ]
    },
    {
      "cell_type": "code",
      "source": [
        "l1=[]\n",
        "i=0\n",
        "while i<=20:\n",
        "  l1.append(i)\n",
        "  i+=1\n",
        "l1[::-1]"
      ],
      "metadata": {
        "id": "juCWNtX-vo0D",
        "colab": {
          "base_uri": "https://localhost:8080/"
        },
        "outputId": "9a4ea7de-f21b-4307-f607-6910e383c949"
      },
      "execution_count": null,
      "outputs": [
        {
          "output_type": "execute_result",
          "data": {
            "text/plain": [
              "[20, 19, 18, 17, 16, 15, 14, 13, 12, 11, 10, 9, 8, 7, 6, 5, 4, 3, 2, 1, 0]"
            ]
          },
          "metadata": {},
          "execution_count": 6
        }
      ]
    },
    {
      "cell_type": "code",
      "source": [
        "for i in range(0,10):\n",
        "  if i==7:\n",
        "    break\n",
        "  print(i)"
      ],
      "metadata": {
        "id": "pP5ucm_Ovo3U",
        "colab": {
          "base_uri": "https://localhost:8080/"
        },
        "outputId": "37013b30-5c1f-4a5a-a3c7-5ec7fdba7a56"
      },
      "execution_count": null,
      "outputs": [
        {
          "output_type": "stream",
          "name": "stdout",
          "text": [
            "0\n",
            "1\n",
            "2\n",
            "3\n",
            "4\n",
            "5\n",
            "6\n"
          ]
        }
      ]
    },
    {
      "cell_type": "code",
      "source": [
        "for i in range(0,10):\n",
        "  if i==3:\n",
        "    pass\n",
        "  print(i)"
      ],
      "metadata": {
        "id": "c0fPuz4kvpCS",
        "colab": {
          "base_uri": "https://localhost:8080/"
        },
        "outputId": "95a48518-d1c3-4ec0-8aaa-c9909e6d4679"
      },
      "execution_count": null,
      "outputs": [
        {
          "output_type": "stream",
          "name": "stdout",
          "text": [
            "0\n",
            "1\n",
            "2\n",
            "3\n",
            "4\n",
            "5\n",
            "6\n",
            "7\n",
            "8\n",
            "9\n"
          ]
        }
      ]
    },
    {
      "cell_type": "code",
      "source": [
        "for i in range(0,10):\n",
        "  if i==4:\n",
        "    continue\n",
        "  print(i)"
      ],
      "metadata": {
        "colab": {
          "base_uri": "https://localhost:8080/"
        },
        "id": "jZt_b0Ye1B_x",
        "outputId": "dda9c0c9-ac8d-4be3-8388-5346671f6d97"
      },
      "execution_count": null,
      "outputs": [
        {
          "output_type": "stream",
          "name": "stdout",
          "text": [
            "0\n",
            "1\n",
            "2\n",
            "3\n",
            "5\n",
            "6\n",
            "7\n",
            "8\n",
            "9\n"
          ]
        }
      ]
    }
  ]
}