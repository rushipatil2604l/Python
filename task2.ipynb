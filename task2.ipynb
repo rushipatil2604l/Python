{
 "cells": [
  {
   "cell_type": "code",
   "execution_count": 6,
   "id": "d17d9f7a",
   "metadata": {},
   "outputs": [
    {
     "name": "stdout",
     "output_type": "stream",
     "text": [
      "Grade: B\n"
     ]
    }
   ],
   "source": [
    "\n",
    "\n",
    "p = 60\n",
    "if p > 75:\n",
    "    print(\"Grade: O\")\n",
    "elif 60 < p <= 75:\n",
    "    print(\"Grade: A\")\n",
    "elif 50 < p <= 60:\n",
    "    print(\"Grade: B\")\n",
    "elif 35 < p <= 50:\n",
    "    print(\"Grade: C\")\n",
    "else:\n",
    "    print(\"Fail\")\n",
    "\n"
   ]
  },
  {
   "cell_type": "code",
   "execution_count": 8,
   "id": "e671a87a",
   "metadata": {},
   "outputs": [
    {
     "name": "stdout",
     "output_type": "stream",
     "text": [
      "720\n"
     ]
    }
   ],
   "source": [
    "n=6\n",
    "fact=1\n",
    " \n",
    "for i in range(1, n+1):\n",
    "    fact = fact * i\n",
    "print(fact)"
   ]
  },
  {
   "cell_type": "code",
   "execution_count": 14,
   "id": "3d452674",
   "metadata": {},
   "outputs": [
    {
     "name": "stdout",
     "output_type": "stream",
     "text": [
      "The given number is not divisible by 2 and not divisible by 3\n"
     ]
    }
   ],
   "source": [
    "n=7\n",
    "if n%2==0 and n%3!=0:\n",
    "\tprint(\"The given number is divisible by 2 and not divisible by 3\")\n",
    "elif n%2==0 and n%3==0:\n",
    "    print(\"The given number is divisible by 2 and divisible by 3\")\n",
    "elif n%3==0 and n%2!=0:\n",
    "    print(\"The given number is divisible by 3 and not divisible by 2\")\n",
    "elif n%3!=0 and n%2!=0:\n",
    "    print(\"The given number is not divisible by 2 and not divisible by 3\")\n",
    "else:\n",
    "    print(\"Invalid input\")\n",
    "    "
   ]
  },
  {
   "cell_type": "code",
   "execution_count": null,
   "id": "dde15140",
   "metadata": {},
   "outputs": [],
   "source": []
  },
  {
   "cell_type": "code",
   "execution_count": null,
   "id": "0472a19f",
   "metadata": {},
   "outputs": [],
   "source": []
  }
 ],
 "metadata": {
  "kernelspec": {
   "display_name": "Python 3 (ipykernel)",
   "language": "python",
   "name": "python3"
  },
  "language_info": {
   "codemirror_mode": {
    "name": "ipython",
    "version": 3
   },
   "file_extension": ".py",
   "mimetype": "text/x-python",
   "name": "python",
   "nbconvert_exporter": "python",
   "pygments_lexer": "ipython3",
   "version": "3.9.13"
  }
 },
 "nbformat": 4,
 "nbformat_minor": 5
}
