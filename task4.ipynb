{
  "nbformat": 4,
  "nbformat_minor": 0,
  "metadata": {
    "colab": {
      "provenance": [],
      "authorship_tag": "ABX9TyMT2TaN/w8juZa4tCcloNfI",
      "include_colab_link": true
    },
    "kernelspec": {
      "name": "python3",
      "display_name": "Python 3"
    },
    "language_info": {
      "name": "python"
    }
  },
  "cells": [
    {
      "cell_type": "markdown",
      "metadata": {
        "id": "view-in-github",
        "colab_type": "text"
      },
      "source": [
        "<a href=\"https://colab.research.google.com/github/rushipatil2604l/Python/blob/main/task4.ipynb\" target=\"_parent\"><img src=\"https://colab.research.google.com/assets/colab-badge.svg\" alt=\"Open In Colab\"/></a>"
      ]
    },
    {
      "cell_type": "code",
      "source": [
        "\n",
        "#to find the maximum number in a list\n",
        "def maxnum(nums):\n",
        "  maximum=nums[0]\n",
        "  for i in nums:\n",
        "    if i>maximum:\n",
        "      maximum=i\n",
        "  return maximum\n",
        "\n",
        "maxnum([1,2,45,6])"
      ],
      "metadata": {
        "colab": {
          "base_uri": "https://localhost:8080/"
        },
        "id": "q65yGix8oOzo",
        "outputId": "f8ee9b6d-12aa-4799-f011-2224ba0c9098"
      },
      "execution_count": 7,
      "outputs": [
        {
          "output_type": "execute_result",
          "data": {
            "text/plain": [
              "45"
            ]
          },
          "metadata": {},
          "execution_count": 7
        }
      ]
    },
    {
      "cell_type": "code",
      "source": [
        "#sum of all elements in a list\n",
        "def add(nums):\n",
        "  total=0\n",
        "  for i in range(0,len(nums)):\n",
        "    total=total+nums[i]\n",
        "  print(\"\",total)\n",
        "\n",
        "add([1,2,3,4,5])"
      ],
      "metadata": {
        "colab": {
          "base_uri": "https://localhost:8080/"
        },
        "id": "be4ydEg1oPDH",
        "outputId": "8f97129f-4b31-4e3a-b9f5-1b8c8fcbf7b6"
      },
      "execution_count": 13,
      "outputs": [
        {
          "output_type": "stream",
          "name": "stdout",
          "text": [
            " 15\n"
          ]
        }
      ]
    },
    {
      "cell_type": "code",
      "source": [
        "#to find the unique numbers in a list\n",
        "def unique(li1):\n",
        "  unique_li=[]\n",
        "  for i in li1:\n",
        "    if i not in unique_li:\n",
        "      unique_li.append(i)\n",
        "  return unique_li\n",
        "unique([1,2,2,2,3,3,3,3,3,3,4,5])\n",
        "\n"
      ],
      "metadata": {
        "colab": {
          "base_uri": "https://localhost:8080/"
        },
        "id": "dKFOMUkRoPLU",
        "outputId": "ad8db00f-3a8e-4ee5-a022-ece4fa311637"
      },
      "execution_count": null,
      "outputs": [
        {
          "output_type": "execute_result",
          "data": {
            "text/plain": [
              "[1, 2, 3, 4, 5]"
            ]
          },
          "metadata": {},
          "execution_count": 11
        }
      ]
    },
    {
      "cell_type": "code",
      "source": [
        "#Python function total number of  Combinations\n",
        "from itertools import combinations\n",
        "def combination():\n",
        "  comb = combinations(['a','b','c'], 2)\n",
        "  for i in list(comb):\n",
        "     print(i)\n",
        "\n",
        "combination()"
      ],
      "metadata": {
        "colab": {
          "base_uri": "https://localhost:8080/"
        },
        "id": "aRh9hAQxqu_P",
        "outputId": "6bb6b40d-539f-4a4f-f246-a24f9013b9b4"
      },
      "execution_count": null,
      "outputs": [
        {
          "output_type": "stream",
          "name": "stdout",
          "text": [
            "('a', 'b')\n",
            "('a', 'c')\n",
            "('b', 'c')\n"
          ]
        }
      ]
    },
    {
      "cell_type": "code",
      "source": [
        "#Python function total number of  permutations\n",
        "from itertools import permutations\n",
        "def permutation():\n",
        "  perm = permutations(['a','b','c'], 2)\n",
        "  for i in list(perm):\n",
        "     print(i)\n",
        "\n",
        "permutation()"
      ],
      "metadata": {
        "colab": {
          "base_uri": "https://localhost:8080/"
        },
        "id": "CHRll_Qcttg7",
        "outputId": "9100ca89-d11a-40b6-cb3c-b197930c6e6f"
      },
      "execution_count": null,
      "outputs": [
        {
          "output_type": "stream",
          "name": "stdout",
          "text": [
            "('a', 'b')\n",
            "('a', 'c')\n",
            "('b', 'a')\n",
            "('b', 'c')\n",
            "('c', 'a')\n",
            "('c', 'b')\n"
          ]
        }
      ]
    },
    {
      "cell_type": "code",
      "source": [
        "# to check the count of vowels and consonants in a string\n",
        "def countvow(str):\n",
        "  vowels=0\n",
        "  consonants=0\n",
        "  for i in str:\n",
        "      if(i == 'a'or i == 'e'or i == 'i'or i == 'o'or i == 'u' or\n",
        "        i == 'A'or i == 'E'or i == 'I'or i == 'O'or i == 'U' ):\n",
        "            vowels=vowels+1;\n",
        "      else:\n",
        "          consonants=consonants+1;\n",
        "  print(\"The number of vowels:\",vowels);\n",
        "  print(\"\\nThe number of consonant:\",consonants);\n",
        "\n",
        "countvow(\"Rushikesh\")"
      ],
      "metadata": {
        "colab": {
          "base_uri": "https://localhost:8080/"
        },
        "id": "aC6tf4cCubFA",
        "outputId": "861431b8-4200-4e59-ccc3-850fe4a66ac1"
      },
      "execution_count": null,
      "outputs": [
        {
          "output_type": "stream",
          "name": "stdout",
          "text": [
            "The number of vowels: 3\n",
            "\n",
            "The number of consonant: 6\n"
          ]
        }
      ]
    },
    {
      "cell_type": "code",
      "source": [
        "# to make a string in uppercase\n",
        "def up(str):\n",
        "  print(str.upper())\n",
        "\n",
        "up(\"rushikesh\")"
      ],
      "metadata": {
        "colab": {
          "base_uri": "https://localhost:8080/"
        },
        "id": "DQwHr0YCu5yv",
        "outputId": "bfeff1af-4fed-4a57-d66e-9dbcab6fbbb5"
      },
      "execution_count": null,
      "outputs": [
        {
          "output_type": "stream",
          "name": "stdout",
          "text": [
            "RUSHIKESH\n"
          ]
        }
      ]
    },
    {
      "cell_type": "code",
      "source": [
        "#to find the value of uppercase and lowercase in a string\n",
        "def count_ul(str):\n",
        "  lower=0\n",
        "  upper=0\n",
        "  for i in str:\n",
        "        if(i.islower()):\n",
        "              lower+=1\n",
        "        else:\n",
        "              upper+=1\n",
        "  print(\"The number of lowercase characters is:\",lower)\n",
        "  print(\"The number of uppercase characters is:\",upper)\n",
        "\n",
        "count_ul(\"RuSiKesH\")"
      ],
      "metadata": {
        "colab": {
          "base_uri": "https://localhost:8080/"
        },
        "id": "NHN200WJwE5z",
        "outputId": "9fe57f5d-84f4-4a43-a4f0-d061483af23e"
      },
      "execution_count": null,
      "outputs": [
        {
          "output_type": "stream",
          "name": "stdout",
          "text": [
            "The number of lowercase characters is: 4\n",
            "The number of uppercase characters is: 4\n"
          ]
        }
      ]
    }
  ]
}